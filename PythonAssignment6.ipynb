{
 "cells": [
  {
   "cell_type": "code",
   "execution_count": 22,
   "id": "0179da46",
   "metadata": {},
   "outputs": [
    {
     "name": "stdout",
     "output_type": "stream",
     "text": [
      "5\n",
      "Fibonacci sequence:\n",
      "0\n",
      "1\n",
      "1\n",
      "2\n",
      "3\n"
     ]
    }
   ],
   "source": [
    "def recur(n):\n",
    "    if n <= 1:\n",
    "        return n\n",
    "    else:\n",
    "        return(recur(n-1) + recur(n-2))  #returning the recursion of (n-1) and(n-2)\n",
    "\n",
    "n=int(input())\n",
    "if n<=0:             #checking condition\n",
    "    print(\"enter positive integer\")\n",
    "else:\n",
    "    print(\"Fibonacci sequence:\")\n",
    "    for i in range(n):\n",
    "        print(recur(i))   #answer of Q1"
   ]
  },
  {
   "cell_type": "code",
   "execution_count": 28,
   "id": "5aa5a7ca",
   "metadata": {},
   "outputs": [
    {
     "name": "stdout",
     "output_type": "stream",
     "text": [
      "1\n",
      "The factorial of 1 is 1\n"
     ]
    }
   ],
   "source": [
    "def fact(n):  #create function for recursion\n",
    "    if n == 1:\n",
    "        return n\n",
    "    else:\n",
    "        return n*fact(n-1)  #recuson call for factorial\n",
    "n=int(input())  #input data from user\n",
    "if n< 0:    #checking condition\n",
    "    print(\"Invalid number\")\n",
    "elif n==0:\n",
    "    print(\"The factorial of 0 is 1\")\n",
    "else:\n",
    "    print(\"The factorial of\", n, \"is\", fact(n))  #answer of Q2"
   ]
  },
  {
   "cell_type": "code",
   "execution_count": 3,
   "id": "ba9b5ce6",
   "metadata": {},
   "outputs": [
    {
     "name": "stdout",
     "output_type": "stream",
     "text": [
      "56\n",
      "64\n"
     ]
    },
    {
     "data": {
      "text/plain": [
       "9.611328125"
      ]
     },
     "execution_count": 3,
     "metadata": {},
     "output_type": "execute_result"
    }
   ],
   "source": [
    "def bmi():     \n",
    "    weight=int(input())  #taking weight as an user input\n",
    "    height=int(input())  #taking height as an user input\n",
    "    bmi=(weight/(height**2))*703    #formula for calculating bmi\n",
    "    return bmi\n",
    "bmi()  #answer of Q3"
   ]
  },
  {
   "cell_type": "code",
   "execution_count": 7,
   "id": "5666525f",
   "metadata": {},
   "outputs": [
    {
     "name": "stdout",
     "output_type": "stream",
     "text": [
      "100\n"
     ]
    },
    {
     "data": {
      "text/plain": [
       "4.605170185988092"
      ]
     },
     "execution_count": 7,
     "metadata": {},
     "output_type": "execute_result"
    }
   ],
   "source": [
    "def log():\n",
    "    n=int(input()) #taking user input\n",
    "    import math    #imported math module \n",
    "    return math.log(n) #finding logarithm of any number\n",
    "log()   #answer of Q4"
   ]
  },
  {
   "cell_type": "code",
   "execution_count": 14,
   "id": "1d0ee900",
   "metadata": {},
   "outputs": [
    {
     "name": "stdout",
     "output_type": "stream",
     "text": [
      "5\n"
     ]
    },
    {
     "data": {
      "text/plain": [
       "225"
      ]
     },
     "execution_count": 14,
     "metadata": {},
     "output_type": "execute_result"
    }
   ],
   "source": [
    "def cube():\n",
    "    n=int(input()) #user input\n",
    "    sum1=0\n",
    "    for i in range(1,n+1): #taking range\n",
    "        sum1=sum1+(i**3)    #cube sum for first n natural number\n",
    "    return sum1\n",
    "cube()   #answer of Q5"
   ]
  },
  {
   "cell_type": "code",
   "execution_count": null,
   "id": "4a58f3bd",
   "metadata": {},
   "outputs": [],
   "source": []
  }
 ],
 "metadata": {
  "kernelspec": {
   "display_name": "Python 3 (ipykernel)",
   "language": "python",
   "name": "python3"
  },
  "language_info": {
   "codemirror_mode": {
    "name": "ipython",
    "version": 3
   },
   "file_extension": ".py",
   "mimetype": "text/x-python",
   "name": "python",
   "nbconvert_exporter": "python",
   "pygments_lexer": "ipython3",
   "version": "3.9.7"
  }
 },
 "nbformat": 4,
 "nbformat_minor": 5
}
