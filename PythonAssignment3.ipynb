{
 "cells": [
  {
   "cell_type": "code",
   "execution_count": 2,
   "id": "5c13cfc4",
   "metadata": {},
   "outputs": [
    {
     "name": "stdout",
     "output_type": "stream",
     "text": [
      "8\n",
      "8 is a Positive number\n"
     ]
    }
   ],
   "source": [
    "n=int(input())\n",
    "if(n>0): 'checking the number isit greater than 0 or not'\n",
    "    print(n,'is a Positive number') 'if number will be greater than 0 it will will be positive'\n",
    "elif(n<0): 'checking the number isit less than 0 or not'\n",
    "    print(n,'is a Negative number') 'if number will be less than 0 it will will be negative'\n",
    "else: 'if it will not greater than 1 or less than 1 it will print zero'\n",
    "    print(n,'is Zero')#answer of Q1"
   ]
  },
  {
   "cell_type": "code",
   "execution_count": 4,
   "id": "18818a8e",
   "metadata": {},
   "outputs": [
    {
     "name": "stdout",
     "output_type": "stream",
     "text": [
      "88\n",
      "even\n"
     ]
    }
   ],
   "source": [
    "n=int(input()) \n",
    "if(n%2==0): 'checking if modulo of 2 will be zero '\n",
    "    print('even') 'if it will be 0 then it will even'\n",
    "else: 'otherwise'\n",
    "    print('Odd') 'it will be even' #answer of Q2"
   ]
  },
  {
   "cell_type": "code",
   "execution_count": 3,
   "id": "effec70e",
   "metadata": {},
   "outputs": [
    {
     "name": "stdout",
     "output_type": "stream",
     "text": [
      "2000\n",
      "Leap year\n"
     ]
    }
   ],
   "source": [
    "yr=int(input())\n",
    "if (yr%400==0 and yr%100==0): 'Checking if yr modulo 400 will be zero and yr modulo 100 will be zero then it will be leap year'\n",
    "    print('Leap year')\n",
    "elif (yr%4==0 and yr%100!=0): 'Checking if yr modulo 4 will be zero and yr modulo 100 will be not zero then it will be leap year'\n",
    "    print('Leap year')\n",
    "else: 'if both condition will not satisfy then it will be not leap year'\n",
    "    print('Not Leap Year') #answer of Q3"
   ]
  },
  {
   "cell_type": "code",
   "execution_count": 4,
   "id": "8890dc91",
   "metadata": {},
   "outputs": [
    {
     "name": "stdout",
     "output_type": "stream",
     "text": [
      "5\n",
      "Not prime number\n"
     ]
    }
   ],
   "source": [
    "n=int(input())\n",
    "for i in range(2,n-1): 'taking range from 2 to n-1'\n",
    "    if(n%i==0): 'if n modulo i will be zero it will print not prime no and will immediately break the loop'\n",
    "        print('Not prime number')\n",
    "        break\n",
    "else: 'otherwise it will be prime number'\n",
    "    print('Not prime number') #answer of Q4"
   ]
  },
  {
   "cell_type": "code",
   "execution_count": 6,
   "id": "19f6707b",
   "metadata": {},
   "outputs": [
    {
     "name": "stdout",
     "output_type": "stream",
     "text": [
      "1 5 7 11 13 17 19 23 25 29 31 35 37 41 43 47 49 53 55 59 61 65 67 71 73 77 79 83 85 89 91 95 97 101 103 107 109 113 115 119 121 125 127 131 133 137 139 143 145 149 151 155 157 161 163 167 169 173 175 179 181 185 187 191 193 197 199 203 205 209 211 215 217 221 223 227 229 233 235 239 241 245 247 251 253 257 259 263 265 269 271 275 277 281 283 287 289 293 295 299 301 305 307 311 313 317 319 323 325 329 331 335 337 341 343 347 349 353 355 359 361 365 367 371 373 377 379 383 385 389 391 395 397 401 403 407 409 413 415 419 421 425 427 431 433 437 439 443 445 449 451 455 457 461 463 467 469 473 475 479 481 485 487 491 493 497 499 503 505 509 511 515 517 521 523 527 529 533 535 539 541 545 547 551 553 557 559 563 565 569 571 575 577 581 583 587 589 593 595 599 601 605 607 611 613 617 619 623 625 629 631 635 637 641 643 647 649 653 655 659 661 665 667 671 673 677 679 683 685 689 691 695 697 701 703 707 709 713 715 719 721 725 727 731 733 737 739 743 745 749 751 755 757 761 763 767 769 773 775 779 781 785 787 791 793 797 799 803 805 809 811 815 817 821 823 827 829 833 835 839 841 845 847 851 853 857 859 863 865 869 871 875 877 881 883 887 889 893 895 899 901 905 907 911 913 917 919 923 925 929 931 935 937 941 943 947 949 953 955 959 961 965 967 971 973 977 979 983 985 989 991 995 997 "
     ]
    }
   ],
   "source": [
    "for i in range(1,1001): 'taking range from 1 to 1000'\n",
    "    for j in range(2,n-1): 'taking range from 2 to n-1'\n",
    "        if(i%j==0): 'if i modulo j will be zero it will print pass and will immediately break the loop'\n",
    "            pass\n",
    "            break\n",
    "    else: 'otherwise it will print element and here all the prime number will be print'\n",
    "        print(i,end=' ') #answer of Q5"
   ]
  }
 ],
 "metadata": {
  "kernelspec": {
   "display_name": "Python 3 (ipykernel)",
   "language": "python",
   "name": "python3"
  },
  "language_info": {
   "codemirror_mode": {
    "name": "ipython",
    "version": 3
   },
   "file_extension": ".py",
   "mimetype": "text/x-python",
   "name": "python",
   "nbconvert_exporter": "python",
   "pygments_lexer": "ipython3",
   "version": "3.9.7"
  }
 },
 "nbformat": 4,
 "nbformat_minor": 5
}
