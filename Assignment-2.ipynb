{
 "cells": [
  {
   "cell_type": "code",
   "execution_count": null,
   "id": "58e93c39",
   "metadata": {},
   "outputs": [],
   "source": [
    "True and False.\n",
    "With the help of bool we represent boolean data type.#answer of Q1"
   ]
  },
  {
   "cell_type": "code",
   "execution_count": null,
   "id": "30a6f384",
   "metadata": {},
   "outputs": [],
   "source": [
    "and, or, not.\n",
    "it take two operand as an input and after execute it will gave an output in the form of True or False.\n",
    "for ex-> a=90, b=68\n",
    "a>40 and b>100 '''it will return False as an output''' #answer of Q2"
   ]
  },
  {
   "cell_type": "code",
   "execution_count": null,
   "id": "381601d6",
   "metadata": {},
   "outputs": [],
   "source": [
    "and Table\n",
    "A         B       A and B\n",
    "True     True     True\n",
    "True     False    False\n",
    "False    True     False\n",
    "False    False    False\n",
    "\n",
    "or Table\n",
    "A         B       A and B\n",
    "True     True     True\n",
    "True     False    True\n",
    "False    True     True\n",
    "False    False    False\n",
    "\n",
    "not table\n",
    "A          B\n",
    "True      False\n",
    "False     True  #answer of Q3"
   ]
  },
  {
   "cell_type": "code",
   "execution_count": 3,
   "id": "e34a1637",
   "metadata": {},
   "outputs": [
    {
     "data": {
      "text/plain": [
       "True"
      ]
     },
     "execution_count": 3,
     "metadata": {},
     "output_type": "execute_result"
    }
   ],
   "source": [
    "(5 & 4) and (3 == 5)\n",
    "not (5 & 4)\n",
    "(5 & 4) or (3 == 5)\n",
    "not ((5 & 4) or (3 == 5))\n",
    "(True and True) and (True == False)\n",
    "(not False) or (not True) -'''Answer will be True''' #answer of Q4"
   ]
  },
  {
   "cell_type": "code",
   "execution_count": null,
   "id": "f90fefd6",
   "metadata": {},
   "outputs": [],
   "source": [
    "1.<     -> less than\n",
    "2.>     -> greater than\n",
    "3.==    -> equal to\n",
    "4.!=    -> not equal to \n",
    "5.<=    -> Less than\n",
    "6.>=    -> greater than equal to #answer of Q5"
   ]
  },
  {
   "cell_type": "code",
   "execution_count": null,
   "id": "8a8b1ef7",
   "metadata": {},
   "outputs": [],
   "source": [
    "= assignment operator -> this is use to assign a value to a variable.\n",
    "== equality operator  -> it is use to check the expression either two value gives the same result.\n",
    "for ex-> x=10(assignment) -> it is use to assign 10 into x.\n",
    "(x==10)-> equal to for checking the condion that x is equal to 10 or not. #answer of Q6"
   ]
  },
  {
   "cell_type": "code",
   "execution_count": 5,
   "id": "97fe15e8",
   "metadata": {},
   "outputs": [
    {
     "name": "stdout",
     "output_type": "stream",
     "text": [
      "spam\n",
      "spam\n"
     ]
    }
   ],
   "source": [
    "spam = 0\n",
    "if spam == 10:\n",
    "    print('eggs')\n",
    "    if spam>5:\n",
    "        print('bacon')\n",
    "    else:\n",
    "        print('ham')\n",
    "print('spam')\n",
    "print('spam') --->#answer of Q7"
   ]
  },
  {
   "cell_type": "code",
   "execution_count": 9,
   "id": "b829ae92",
   "metadata": {},
   "outputs": [
    {
     "name": "stdout",
     "output_type": "stream",
     "text": [
      "3\n",
      "Greetings!\n"
     ]
    }
   ],
   "source": [
    "spam=int(input())\n",
    "if(spam==1):\n",
    "    print('Hello')\n",
    "elif(spam==2):\n",
    "    print('Howdy')\n",
    "else:\n",
    "    print('Greetings!')#answer of Q8"
   ]
  },
  {
   "cell_type": "code",
   "execution_count": null,
   "id": "baea78a8",
   "metadata": {},
   "outputs": [],
   "source": [
    "restart kernel #answer of Q9"
   ]
  },
  {
   "cell_type": "code",
   "execution_count": null,
   "id": "618868b1",
   "metadata": {},
   "outputs": [],
   "source": [
    "break stop the execution of current program and continue end the current iteration and continue from the next one.\n",
    "#answer of Q10"
   ]
  },
  {
   "cell_type": "code",
   "execution_count": null,
   "id": "8f21ff76",
   "metadata": {},
   "outputs": [],
   "source": [
    "all are same because in range of 10 it will by default start with 0 and will go till 9 and by default step will be 1.\n",
    "and in range(0,10), it will also go from 0 to 9 as range is mentioned and bydefault step will be 1.\n",
    "and in range(0,10,1), as here mentioned it will start with zero and will go till 9 and here step is also mentioned so it\n",
    "will jump one elsement. #answer of Q11"
   ]
  },
  {
   "cell_type": "code",
   "execution_count": 21,
   "id": "bd52a1cc",
   "metadata": {},
   "outputs": [
    {
     "name": "stdout",
     "output_type": "stream",
     "text": [
      "1 2 3 4 5 6 7 8 9 10 "
     ]
    }
   ],
   "source": [
    "for i in range(1,11):\n",
    "    print(i,end=' ') #answer of Q12"
   ]
  },
  {
   "cell_type": "code",
   "execution_count": 2,
   "id": "1c096969",
   "metadata": {},
   "outputs": [
    {
     "name": "stdout",
     "output_type": "stream",
     "text": [
      "1 2 3 4 5 6 7 8 9 10 "
     ]
    }
   ],
   "source": [
    "i=0\n",
    "while(i<10):\n",
    "    print(i+1,end=' ')\n",
    "    i+=1     #answer of Q12"
   ]
  },
  {
   "cell_type": "code",
   "execution_count": null,
   "id": "00c65397",
   "metadata": {},
   "outputs": [],
   "source": [
    "spam.bacon() #answer of Q13"
   ]
  },
  {
   "cell_type": "code",
   "execution_count": null,
   "id": "d9bee001",
   "metadata": {},
   "outputs": [],
   "source": []
  }
 ],
 "metadata": {
  "kernelspec": {
   "display_name": "Python 3 (ipykernel)",
   "language": "python",
   "name": "python3"
  },
  "language_info": {
   "codemirror_mode": {
    "name": "ipython",
    "version": 3
   },
   "file_extension": ".py",
   "mimetype": "text/x-python",
   "name": "python",
   "nbconvert_exporter": "python",
   "pygments_lexer": "ipython3",
   "version": "3.9.7"
  }
 },
 "nbformat": 4,
 "nbformat_minor": 5
}
