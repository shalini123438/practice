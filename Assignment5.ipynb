{
 "cells": [
  {
   "cell_type": "code",
   "execution_count": null,
   "id": "f4e8250e",
   "metadata": {},
   "outputs": [],
   "source": [
    "d={} #answer of Q1"
   ]
  },
  {
   "cell_type": "code",
   "execution_count": null,
   "id": "51ed035a",
   "metadata": {},
   "outputs": [],
   "source": [
    "d={'foo':42}\n",
    "here value of dictionary is 42.#answer of Q2"
   ]
  },
  {
   "cell_type": "code",
   "execution_count": null,
   "id": "bfdf878d",
   "metadata": {},
   "outputs": [],
   "source": [
    "list contain only values where as dictionary as key value pair. \n",
    "for ex:- list=[45]\n",
    "    dict=['Name':'shalini'] #answer of Q3"
   ]
  },
  {
   "cell_type": "code",
   "execution_count": 2,
   "id": "64f764ed",
   "metadata": {},
   "outputs": [],
   "source": [
    "spam={'bar':100}\n",
    "Here key is spam and value is 100 so if we will try to access spam(foo) it will show an error as foo is not defined.\n",
    "#answer of Q4"
   ]
  },
  {
   "cell_type": "code",
   "execution_count": null,
   "id": "3b4935e1",
   "metadata": {},
   "outputs": [],
   "source": [
    "in bacon cat is the value of the list and here in dictionary d={'bar':100} -> the spam.key will be the key of the dictionary \n",
    "of spam and here key is 'foo'.#answer of Q5"
   ]
  },
  {
   "cell_type": "code",
   "execution_count": null,
   "id": "e1643dda",
   "metadata": {},
   "outputs": [],
   "source": [
    "in bacon cat is the value of the list and here in dictionary d={'bar':100} -> the spam.value will be the value of the dictionary \n",
    "of spam and here value is 100.#answer of Q6"
   ]
  },
  {
   "cell_type": "code",
   "execution_count": null,
   "id": "cdc4e756",
   "metadata": {},
   "outputs": [],
   "source": [
    "spam={'foo':42}\n",
    "the sort cut for creating that is-> spam['color']='black'#answer of Q7"
   ]
  },
  {
   "cell_type": "code",
   "execution_count": 9,
   "id": "fc34e810",
   "metadata": {},
   "outputs": [],
   "source": [
    "import pprint -> this is module and inside this module pprint.print() is function.\n",
    "ex -> Details=[{'name':'shalini','age':22,'country':'india'},\n",
    "               {'profession':'integration developer', 'company': 'infosys','enthusiast':'datascience'},\n",
    "               {'enrolled':'ineuron','teacher': 'shudhanshu sir', 'mentor':'shivan sir'}]\n",
    "               #answer of Q8"
   ]
  },
  {
   "cell_type": "code",
   "execution_count": 12,
   "id": "84ad2575",
   "metadata": {},
   "outputs": [
    {
     "name": "stdout",
     "output_type": "stream",
     "text": [
      "[{'age': 22, 'country': 'india', 'name': 'shalini'},\n",
      " {'company': 'infosys',\n",
      "  'enthusiast': 'datascience',\n",
      "  'profession': 'integration developer'},\n",
      " {'enrolled': 'ineuron', 'mentor': 'shivan sir', 'teacher': 'shudhanshu sir'}]\n"
     ]
    }
   ],
   "source": [
    "Details=[{'name':'shalini','age':22,'country':'india'},\n",
    "               {'profession':'integration developer', 'company': 'infosys','enthusiast':'datascience'},\n",
    "               {'enrolled':'ineuron','teacher': 'shudhanshu sir', 'mentor':'shivan sir'}]\n",
    "pprint.pprint(Details)"
   ]
  },
  {
   "cell_type": "code",
   "execution_count": 13,
   "id": "fc069bc9",
   "metadata": {},
   "outputs": [
    {
     "name": "stdout",
     "output_type": "stream",
     "text": [
      "[{'name': 'shalini', 'age': 22, 'country': 'india'}, {'profession': 'integration developer', 'company': 'infosys', 'enthusiast': 'datascience'}, {'enrolled': 'ineuron', 'teacher': 'shudhanshu sir', 'mentor': 'shivan sir'}]\n"
     ]
    }
   ],
   "source": [
    "print(Details)"
   ]
  },
  {
   "cell_type": "code",
   "execution_count": null,
   "id": "402c6fad",
   "metadata": {},
   "outputs": [],
   "source": []
  }
 ],
 "metadata": {
  "kernelspec": {
   "display_name": "Python 3 (ipykernel)",
   "language": "python",
   "name": "python3"
  },
  "language_info": {
   "codemirror_mode": {
    "name": "ipython",
    "version": 3
   },
   "file_extension": ".py",
   "mimetype": "text/x-python",
   "name": "python",
   "nbconvert_exporter": "python",
   "pygments_lexer": "ipython3",
   "version": "3.9.7"
  }
 },
 "nbformat": 4,
 "nbformat_minor": 5
}
