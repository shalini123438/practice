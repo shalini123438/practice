{
 "cells": [
  {
   "cell_type": "code",
   "execution_count": 2,
   "id": "206e7654",
   "metadata": {},
   "outputs": [
    {
     "name": "stdout",
     "output_type": "stream",
     "text": [
      "6.21371\n"
     ]
    }
   ],
   "source": [
    "kilometer=10\n",
    "miles = kilometer*(0.621371) 'here used miles=kilometer*(0.621371) formula to find miles from kilometer'\n",
    "print(miles) #answer of Q1"
   ]
  },
  {
   "cell_type": "code",
   "execution_count": 5,
   "id": "d4075365",
   "metadata": {},
   "outputs": [
    {
     "name": "stdout",
     "output_type": "stream",
     "text": [
      "69\n",
      "156.2\n"
     ]
    }
   ],
   "source": [
    "Celsius=int(input())\n",
    "foreignheight=(Celsius*1.8)+32 'here used foreignheight=(Celsius*1.8)+32 formula to find foreignheight from Celsius'\n",
    "print(foreignheight) #answer of Q2"
   ]
  },
  {
   "cell_type": "code",
   "execution_count": 12,
   "id": "7e1c8349",
   "metadata": {},
   "outputs": [
    {
     "name": "stdout",
     "output_type": "stream",
     "text": [
      "2022\n",
      "6\n",
      "     June 2022\n",
      "Mo Tu We Th Fr Sa Su\n",
      "       1  2  3  4  5\n",
      " 6  7  8  9 10 11 12\n",
      "13 14 15 16 17 18 19\n",
      "20 21 22 23 24 25 26\n",
      "27 28 29 30\n",
      "\n"
     ]
    }
   ],
   "source": [
    "import calendar 'For printing calender first of all we have to import calender'\n",
    "yy = int(input())  'For printing calender first i am taking input year that for which year m trying to see calender'\n",
    "mm = int(input())  'For printing calender second i am taking input month that for which month m trying to see calender'    \n",
    "print(calendar.month(yy, mm)) #answer of Q3"
   ]
  },
  {
   "cell_type": "code",
   "execution_count": 22,
   "id": "3021542e",
   "metadata": {},
   "outputs": [
    {
     "name": "stdout",
     "output_type": "stream",
     "text": [
      "Enter a: 9\n",
      "Enter b: 9\n",
      "Enter c: 9\n",
      "(-9-0.8660254037844387j) (-9+0.8660254037844387j)\n"
     ]
    }
   ],
   "source": [
    "import cmath  \n",
    "a = float(input('Enter a: '))  \n",
    "b = float(input('Enter b: '))  \n",
    "c = float(input('Enter c: '))  \n",
    "  # calculate the discriminant  \n",
    "d = (b**2) - (4*a*c)  \n",
    "  # find two solutions  \n",
    "sol1 = -b-(cmath.sqrt(d))/(2*a)  \n",
    "sol2 = -b+(cmath.sqrt(d))/(2*a)  \n",
    "print(sol1,sol2)   #answer of Q4"
   ]
  },
  {
   "cell_type": "code",
   "execution_count": 24,
   "id": "c0076517",
   "metadata": {},
   "outputs": [
    {
     "name": "stdout",
     "output_type": "stream",
     "text": [
      "a: 3\n",
      "b: 5\n",
      "5 3\n"
     ]
    }
   ],
   "source": [
    "a=int(input('a: '))\n",
    "b=int(input('b: '))\n",
    "a,b=b,a 'swapping of two variable without using 3rd'\n",
    "print(a,b) #answer of Q5"
   ]
  }
 ],
 "metadata": {
  "kernelspec": {
   "display_name": "Python 3 (ipykernel)",
   "language": "python",
   "name": "python3"
  },
  "language_info": {
   "codemirror_mode": {
    "name": "ipython",
    "version": 3
   },
   "file_extension": ".py",
   "mimetype": "text/x-python",
   "name": "python",
   "nbconvert_exporter": "python",
   "pygments_lexer": "ipython3",
   "version": "3.9.7"
  }
 },
 "nbformat": 4,
 "nbformat_minor": 5
}
