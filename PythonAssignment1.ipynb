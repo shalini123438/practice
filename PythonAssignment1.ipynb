{
 "cells": [
  {
   "cell_type": "code",
   "execution_count": 1,
   "id": "6f1df11a",
   "metadata": {},
   "outputs": [
    {
     "name": "stdout",
     "output_type": "stream",
     "text": [
      "HELLO\n"
     ]
    }
   ],
   "source": [
    "print('HELLO')#answer of Q1"
   ]
  },
  {
   "cell_type": "code",
   "execution_count": 4,
   "id": "ce9d0b3c",
   "metadata": {},
   "outputs": [
    {
     "name": "stdout",
     "output_type": "stream",
     "text": [
      "30\n",
      "2\n"
     ]
    }
   ],
   "source": [
    "a=10\n",
    "b=20\n",
    "c=a+b 'For addition we use + sysmbol'\n",
    "d=b//a 'For division we use // sysmbol'\n",
    "print(c)\n",
    "print(d) #answer of Q2"
   ]
  },
  {
   "cell_type": "code",
   "execution_count": 6,
   "id": "e5b63779",
   "metadata": {},
   "outputs": [
    {
     "name": "stdout",
     "output_type": "stream",
     "text": [
      "180.0\n"
     ]
    }
   ],
   "source": [
    "base=18 'Here base is the base of a traingle'\n",
    "height=20 'Here height is the height of a traingle'\n",
    "AOT=(base*height)//2 'Here (base*height/2) is the formula for finding area of traingle'\n",
    "print(AOT) #answer of Q3"
   ]
  },
  {
   "cell_type": "code",
   "execution_count": 7,
   "id": "74f79943",
   "metadata": {},
   "outputs": [
    {
     "name": "stdout",
     "output_type": "stream",
     "text": [
      "20 10\n"
     ]
    }
   ],
   "source": [
    "a=10\n",
    "b=20\n",
    "a,b=b,a 'Trying to swap the number, Here i am assigning b into a and a into b'\n",
    "print(a,b) #answer of Q4"
   ]
  },
  {
   "cell_type": "code",
   "execution_count": 13,
   "id": "737c2c81",
   "metadata": {},
   "outputs": [
    {
     "name": "stdout",
     "output_type": "stream",
     "text": [
      "3\n"
     ]
    }
   ],
   "source": [
    "import random 'For finding random number we have to import random package'\n",
    "print(random.randint(0,10)) '''here i am using random.randian to find the number from given range,every time when will execute\n",
    "this program will always genrate random number this will never give the same number'''#answer of Q5"
   ]
  }
 ],
 "metadata": {
  "kernelspec": {
   "display_name": "Python 3 (ipykernel)",
   "language": "python",
   "name": "python3"
  },
  "language_info": {
   "codemirror_mode": {
    "name": "ipython",
    "version": 3
   },
   "file_extension": ".py",
   "mimetype": "text/x-python",
   "name": "python",
   "nbconvert_exporter": "python",
   "pygments_lexer": "ipython3",
   "version": "3.9.7"
  }
 },
 "nbformat": 4,
 "nbformat_minor": 5
}
