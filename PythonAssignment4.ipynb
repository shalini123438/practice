{
 "cells": [
  {
   "cell_type": "code",
   "execution_count": 3,
   "id": "84998b6c",
   "metadata": {},
   "outputs": [
    {
     "name": "stdout",
     "output_type": "stream",
     "text": [
      "5\n",
      "120\n"
     ]
    }
   ],
   "source": [
    "n=int(input())\n",
    "factorial=1 'Here taking variable named as factorial'\n",
    "for i in range(1,n+1): 'taking range from 1 to n element pluss 1'\n",
    "    factorial=factorial*i 'multiplying that variable with i and assigning it into values'\n",
    "print(factorial) #answer of Q1"
   ]
  },
  {
   "cell_type": "code",
   "execution_count": 8,
   "id": "7a4bd8bf",
   "metadata": {},
   "outputs": [
    {
     "name": "stdout",
     "output_type": "stream",
     "text": [
      "1 2 3 4 5 6 7 8 9 10 \n",
      "2 4 6 8 10 12 14 16 18 20 \n",
      "3 6 9 12 15 18 21 24 27 30 \n",
      "4 8 12 16 20 24 28 32 36 40 \n",
      "5 10 15 20 25 30 35 40 45 50 \n",
      "6 12 18 24 30 36 42 48 54 60 \n",
      "7 14 21 28 35 42 49 56 63 70 \n",
      "8 16 24 32 40 48 56 64 72 80 \n",
      "9 18 27 36 45 54 63 72 81 90 \n",
      "10 20 30 40 50 60 70 80 90 100 \n"
     ]
    }
   ],
   "source": [
    "for i in range(1,11): 'here im takinng range from 1 to 10 '\n",
    "    for j in range(1,11): 'taking range from 1 to 11 for multiplication table'\n",
    "        print(i*j,end=' ') 'multiplying each element from i with 1 to 11 in j'\n",
    "    print() #answer of Q2"
   ]
  },
  {
   "cell_type": "code",
   "execution_count": 13,
   "id": "d6468a81",
   "metadata": {},
   "outputs": [
    {
     "name": "stdout",
     "output_type": "stream",
     "text": [
      "10\n",
      "1 1\n",
      "2 3 5 8 13 21 34 55 89 144 "
     ]
    }
   ],
   "source": [
    "n=int(input())\n",
    "a=1 'here i assign value 1 to variable a'\n",
    "b=1 'here i assign value 1 to variable b'\n",
    "print(a,b)\n",
    "while(n>0): 'Taking while loop till input will be greater than 0'\n",
    "    c=a+b   'Here taking variable c and additing value a and b'\n",
    "    print(c,end=' ')\n",
    "    a=b 'here assigning b into a'\n",
    "    b=c 'here assigning c into b'\n",
    "    n=n-1 'here substracting n from 1 each time and loop will go till it will be greater than 0' #answer of Q3"
   ]
  },
  {
   "cell_type": "code",
   "execution_count": 21,
   "id": "7c1a93a0",
   "metadata": {},
   "outputs": [
    {
     "name": "stdout",
     "output_type": "stream",
     "text": [
      "153\n",
      "3\n",
      "5\n",
      "1\n",
      "153 153\n",
      "Armstrong number\n"
     ]
    }
   ],
   "source": [
    "n=int(input())\n",
    "n1=n 'Here assigned n into n1 variable'\n",
    "mul=1\n",
    "sum=0\n",
    "while(n!=0): 'Took while loop and it will run till n does not equal to 0'\n",
    "    b=n%10 'here assining n modulo 10 into b'\n",
    "    mul=b**3 'assigning cube of b into mul'\n",
    "    sum=sum+mul 'adding mul with variable sum which already defined and 0 is already in it'\n",
    "    print(b)\n",
    "    n=n//10 'assigning n//10 into n'\n",
    "print(sum,n1)\n",
    "if(n1==sum): 'checking either n1 is equal to sum or not if it will be then it will be armstrong number else it will not'\n",
    "    print('Armstrong number')\n",
    "else:\n",
    "    print('Not Armstrng number') #answer of Q4"
   ]
  },
  {
   "cell_type": "code",
   "execution_count": 4,
   "id": "6a604c66",
   "metadata": {},
   "outputs": [
    {
     "name": "stdout",
     "output_type": "stream",
     "text": [
      "153 370 371 407 "
     ]
    }
   ],
   "source": [
    "for i in range(100,800): 'Here taking range from which range i want to see the no is armstrong or not'\n",
    "    n1=i 'Here taking variable n1 and assigning i which is value from range in it'\n",
    "    mul=1 \n",
    "    sum1=0\n",
    "    while(i!=0): 'taking while loop and it will run untill or unless i doesnt eqal to zero'\n",
    "        b=i%10 'taking modulo of i with 10 and assigning it into b'\n",
    "        mul=b**3 'taking cube of b and assigning it into mul'\n",
    "        sum1=sum1+mul 'adding sum1 variable with mul and assigning it into sum1 variable' \n",
    "        #print(b)\n",
    "        i=i//10 'taking remainder of i with 10 and assigning it into i'\n",
    "    #print(sum1,n1)\n",
    "    if(sum1==n1): 'checking weather sum1 variable is equal to n1 or not if it will be equal it will be armstrong and it will print that else'\n",
    "        print(n1,end=' ') \n",
    "    else: 'else it will pass it'\n",
    "        pass   #answer of Q5\n",
    "    "
   ]
  },
  {
   "cell_type": "code",
   "execution_count": 6,
   "id": "473e9842",
   "metadata": {},
   "outputs": [
    {
     "name": "stdout",
     "output_type": "stream",
     "text": [
      "8\n",
      "28\n"
     ]
    }
   ],
   "source": [
    "n=int(input()) \n",
    "if(n>0):'checking weather input number is greater than zero or not if it will be greater than zero it will be positive'\n",
    "    sum1=0 'here taking variable and assigning zero into it'\n",
    "    for i in range(1,n): 'taking range from 1 to n'\n",
    "        sum1=sum1+i 'adding i into sum1 variiable and assigning this into sum1'\n",
    "    print(sum1) \n",
    "else: 'if number will be less than zero it will only pass'\n",
    "    pass #answer of Q6"
   ]
  }
 ],
 "metadata": {
  "kernelspec": {
   "display_name": "Python 3 (ipykernel)",
   "language": "python",
   "name": "python3"
  },
  "language_info": {
   "codemirror_mode": {
    "name": "ipython",
    "version": 3
   },
   "file_extension": ".py",
   "mimetype": "text/x-python",
   "name": "python",
   "nbconvert_exporter": "python",
   "pygments_lexer": "ipython3",
   "version": "3.9.7"
  }
 },
 "nbformat": 4,
 "nbformat_minor": 5
}
