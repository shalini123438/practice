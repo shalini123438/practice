{
 "cells": [
  {
   "cell_type": "code",
   "execution_count": null,
   "id": "f9e69292",
   "metadata": {},
   "outputs": [],
   "source": [
    "insert character that are illeagal to a string we use backslash.\n",
    "for ex-> s='my name'is'shalini' but this will give an error for fix these type of error we use \\ character.\n",
    "for ex-> s='my name\\'is\\'shalini' now this is correct #answer of Q1"
   ]
  },
  {
   "cell_type": "code",
   "execution_count": null,
   "id": "60efb61f",
   "metadata": {},
   "outputs": [],
   "source": [
    "\\n is use for new line.\n",
    "\\t is use for tab or space i can say #answer of Q2"
   ]
  },
  {
   "cell_type": "code",
   "execution_count": null,
   "id": "de207e14",
   "metadata": {},
   "outputs": [],
   "source": [
    "for ex-> s='my name'is'shalini' but this will give an error for fix these type of error we use \\ character.\n",
    "for ex-> s='my name\\'is\\'shalini' now this is correct\n",
    "in this way we can use use backslash in string. #answer of Q3"
   ]
  },
  {
   "cell_type": "code",
   "execution_count": null,
   "id": "91b9eea7",
   "metadata": {},
   "outputs": [],
   "source": [
    "s=\"howl's Moving Castle\"\n",
    "This is not generating any issue because we are starting with this \" so whenever will again apply this \" it will consider\n",
    "end of line but apart from that if will use anything it will just consider it as a word of string.#answer of Q4"
   ]
  },
  {
   "cell_type": "code",
   "execution_count": null,
   "id": "e5bb4a1e",
   "metadata": {},
   "outputs": [],
   "source": [
    "we can write a string of newline with the use of print(end=' ') in place of('\\n').#answer of Q5"
   ]
  },
  {
   "cell_type": "code",
   "execution_count": 10,
   "id": "6d762970",
   "metadata": {},
   "outputs": [
    {
     "data": {
      "text/plain": [
       "'lo, world!'"
      ]
     },
     "execution_count": 10,
     "metadata": {},
     "output_type": "execute_result"
    }
   ],
   "source": [
    "'Hello, world!'[1] ->'e'\n",
    "'Hello, world!'[0:5] ->'Hello'\n",
    "'Hello, world!'[:5]->'Hello'\n",
    "'Hello, world!'[3:]->'lo, world!' #answer of Q6"
   ]
  },
  {
   "cell_type": "code",
   "execution_count": null,
   "id": "295745d2",
   "metadata": {},
   "outputs": [],
   "source": [
    "'Hello'.upper()->'HELLO'\n",
    "'Hello'.upper().isupper()->True\n",
    "'Hello'.upper().lower()->'hello'#answer of Q7"
   ]
  },
  {
   "cell_type": "code",
   "execution_count": 19,
   "id": "709ba73b",
   "metadata": {},
   "outputs": [
    {
     "data": {
      "text/plain": [
       "'There_can_only_one.'"
      ]
     },
     "execution_count": 19,
     "metadata": {},
     "output_type": "execute_result"
    }
   ],
   "source": [
    "'Remember, remember, the fifth of July.'.split()->['Remember,', 'remember,', 'the', 'fifth', 'of', 'July.']\n",
    "'_'.join('There can only one.'.split())->'There_can_only_one.'#answer of Q8"
   ]
  },
  {
   "cell_type": "code",
   "execution_count": null,
   "id": "d3832901",
   "metadata": {},
   "outputs": [],
   "source": [
    "str.ljust(s, width[, fillchar])\n",
    "str.rjust(s, width[, fillchar])\n",
    "str.center(s, width[, fillchar])#answer of Q9"
   ]
  },
  {
   "cell_type": "code",
   "execution_count": null,
   "id": "0f639c3e",
   "metadata": {},
   "outputs": [],
   "source": [
    "s.rstrip()-> for removing whitespace from left.\n",
    "s.rstrip()-> for removing whitespace from left.\n",
    "And the best way of removing white space from left and right is s.strip().#answer of Q10"
   ]
  },
  {
   "cell_type": "code",
   "execution_count": null,
   "id": "107abe8f",
   "metadata": {},
   "outputs": [],
   "source": []
  }
 ],
 "metadata": {
  "kernelspec": {
   "display_name": "Python 3 (ipykernel)",
   "language": "python",
   "name": "python3"
  },
  "language_info": {
   "codemirror_mode": {
    "name": "ipython",
    "version": 3
   },
   "file_extension": ".py",
   "mimetype": "text/x-python",
   "name": "python",
   "nbconvert_exporter": "python",
   "pygments_lexer": "ipython3",
   "version": "3.9.7"
  }
 },
 "nbformat": 4,
 "nbformat_minor": 5
}
