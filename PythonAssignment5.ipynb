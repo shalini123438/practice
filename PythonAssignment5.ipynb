{
 "cells": [
  {
   "cell_type": "code",
   "execution_count": 4,
   "id": "7cb141ef",
   "metadata": {},
   "outputs": [
    {
     "data": {
      "text/plain": [
       "140"
      ]
     },
     "execution_count": 4,
     "metadata": {},
     "output_type": "execute_result"
    }
   ],
   "source": [
    "def lcm_func(a,b): #'Creating function which has two parameter a and b'\n",
    "    if a>b: #'if a is greater than b then taking a variable c and assigning greater value into it'\n",
    "        c=a\n",
    "    else:\n",
    "        c=b #'else in variable c will assign b'\n",
    "    while(True):\n",
    "        if(c%a==0) and (c%b==0): #'checking if modulo of c and a will be zero and modulo of c and b will be zero lcm taking a variable will be c'\n",
    "            lcm=c\n",
    "            break #'and break the code imidiately if will find lcm'\n",
    "        c+=1 #'else will increase variable c and again will check condition until or unless it will reach the condition'\n",
    "    return lcm \n",
    "lcm_func(20,35)"
   ]
  },
  {
   "cell_type": "code",
   "execution_count": 23,
   "id": "0cca2996",
   "metadata": {},
   "outputs": [
    {
     "data": {
      "text/plain": [
       "12"
      ]
     },
     "execution_count": 23,
     "metadata": {},
     "output_type": "execute_result"
    }
   ],
   "source": [
    "def hcf_func(a,b): #'creating function and taking 2 argument a and b'\n",
    "    if a>b: #'checking if a is greater than b'\n",
    "        c=b #'taking a variable and assigning greater value into it'\n",
    "    else:\n",
    "        c=a #'assigning value into c variable\n",
    "        \n",
    "    for i in range(1,c+1): #'taking range from one c+1 where c is our variable'\n",
    "        if((a%i)==0 and (b%i==0)): #'checking if a modulo i and b modulo i will be zero then hcf will be 1 '\n",
    "            hcf=i\n",
    "    return hcf\n",
    "hcf_func(12,24)"
   ]
  },
  {
   "cell_type": "code",
   "execution_count": 38,
   "id": "68a82008",
   "metadata": {},
   "outputs": [
    {
     "name": "stdout",
     "output_type": "stream",
     "text": [
      "A\n"
     ]
    }
   ],
   "source": [
    "a=65\n",
    "if(type(a)==int):#if input will be integer then with the use of chr(a) we can find the value of ascii character\n",
    "    print(chr(a))\n",
    "else:\n",
    "    print(ord(a))#else by the use of ord we can find the value of ascii character"
   ]
  },
  {
   "cell_type": "code",
   "execution_count": 17,
   "id": "4411cc5b",
   "metadata": {},
   "outputs": [
    {
     "name": "stdout",
     "output_type": "stream",
     "text": [
      "666\n",
      "1010011010\n",
      "1232\n",
      "29a\n"
     ]
    }
   ],
   "source": [
    "s=int(input()) #'Taking decimal number as an input'\n",
    "Binary=bin(s) #'Converting it into binary'\n",
    "print(Binary[2::]) #'removing first two element ob because it is not required'\n",
    "octal=oct(s) #'Converting it into octal'\n",
    "print(octal[2::])\n",
    "Hexadecimal=hex(s) #'Converting it into hexadecimal'\n",
    "print(Hexadecimal[2::]) #answer of Q3"
   ]
  },
  {
   "cell_type": "code",
   "execution_count": 4,
   "id": "d2e44fcb",
   "metadata": {},
   "outputs": [],
   "source": [
    "def math_op(operation,num1,num2): #creating function and taking inputs\n",
    "    if(operation=='add'): #if function will call add then add operation will perform\n",
    "        r=num1+num2\n",
    "        result='The sum of ' +str(num1)+ ' and ' +str(num2)+ ' is '+str(r) #return addition of input\n",
    "    if(operation=='sub'):  #if function will call sub then sub operation will perform\n",
    "        r=num1-num2\n",
    "        result='The substraction of ' +str(num1)+ ' and ' +str(num2)+ ' is '+str(r) #return substraction of input\n",
    "    if(operation=='mul'): #if function will call mul then mul operation will perform\n",
    "        r=num1*num2\n",
    "        result='The multiplication of ' +str(num1)+ ' and ' +str(num2)+ ' is '+str(r)#return multiplication of input\n",
    "    if(operation=='div'): #if function will call div then div operation will perform\n",
    "        r=num1/num2\n",
    "        result='The division of ' +str(num1)+ ' and ' +str(num2)+ ' is '+str(r)#return division of input\n",
    "    return result"
   ]
  },
  {
   "cell_type": "code",
   "execution_count": 5,
   "id": "c024f944",
   "metadata": {},
   "outputs": [
    {
     "data": {
      "text/plain": [
       "'The substraction of 20 and 50 is -30'"
      ]
     },
     "execution_count": 5,
     "metadata": {},
     "output_type": "execute_result"
    }
   ],
   "source": [
    "math_op('sub',20,50) #calling function from here"
   ]
  },
  {
   "cell_type": "code",
   "execution_count": null,
   "id": "e4249d24",
   "metadata": {},
   "outputs": [],
   "source": []
  }
 ],
 "metadata": {
  "kernelspec": {
   "display_name": "Python 3 (ipykernel)",
   "language": "python",
   "name": "python3"
  },
  "language_info": {
   "codemirror_mode": {
    "name": "ipython",
    "version": 3
   },
   "file_extension": ".py",
   "mimetype": "text/x-python",
   "name": "python",
   "nbconvert_exporter": "python",
   "pygments_lexer": "ipython3",
   "version": "3.9.7"
  }
 },
 "nbformat": 4,
 "nbformat_minor": 5
}
