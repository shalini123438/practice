{
 "cells": [
  {
   "cell_type": "code",
   "execution_count": 7,
   "id": "4286d0ce",
   "metadata": {},
   "outputs": [
    {
     "name": "stdout",
     "output_type": "stream",
     "text": [
      "21\n"
     ]
    }
   ],
   "source": [
    "#question 1\n",
    "arr=[1,2,3,4,5,6] \n",
    "print(sum(arr)) #sum by the use of sum function"
   ]
  },
  {
   "cell_type": "code",
   "execution_count": 16,
   "id": "bd77b288",
   "metadata": {},
   "outputs": [
    {
     "data": {
      "text/plain": [
       "113"
      ]
     },
     "execution_count": 16,
     "metadata": {},
     "output_type": "execute_result"
    }
   ],
   "source": [
    "def add1(*args):\n",
    "    sum1=0\n",
    "    for i in args:\n",
    "        sum1=sum1+i\n",
    "    return sum1\n",
    "add1(1,2,3,8,9,90)  #by use of function and for loop\n"
   ]
  },
  {
   "cell_type": "code",
   "execution_count": 18,
   "id": "1444b22c",
   "metadata": {},
   "outputs": [
    {
     "name": "stdout",
     "output_type": "stream",
     "text": [
      "10\n"
     ]
    }
   ],
   "source": [
    "#question 2\n",
    "arr=[6,3,7,8,10,1]\n",
    "print(max(arr))"
   ]
  },
  {
   "cell_type": "code",
   "execution_count": 51,
   "id": "b99c27ae",
   "metadata": {},
   "outputs": [
    {
     "data": {
      "text/plain": [
       "900"
      ]
     },
     "execution_count": 51,
     "metadata": {},
     "output_type": "execute_result"
    }
   ],
   "source": [
    "def maxx(*ssj):\n",
    "    s1=ssj\n",
    "    try:\n",
    "        for i in ssj:\n",
    "            if(i==max(s1)):\n",
    "                return i\n",
    "    except:\n",
    "        return 'Enter similar data type element please'\n",
    "maxx(87,89,900,54,32,12)"
   ]
  },
  {
   "cell_type": "code",
   "execution_count": 79,
   "id": "7cf7a782",
   "metadata": {},
   "outputs": [
    {
     "name": "stdout",
     "output_type": "stream",
     "text": [
      "[8, 7, 6, 7]\n"
     ]
    }
   ],
   "source": [
    "#question 3\n",
    "arr=[7,6,7,8]\n",
    "arr1=[arr[-1]]\n",
    "arr.pop(-1)\n",
    "print(arr1+arr)#by use of slicing operation"
   ]
  },
  {
   "cell_type": "code",
   "execution_count": 85,
   "id": "5bcb43ef",
   "metadata": {},
   "outputs": [
    {
     "name": "stdout",
     "output_type": "stream",
     "text": [
      "3\n",
      "[4, 5, 1, 2, 3]\n"
     ]
    }
   ],
   "source": [
    "#question 4\n",
    "arr=[1,2,3,4,5]\n",
    "n=int(input())\n",
    "print(arr[n::]+arr[:n])#by use of slicing operation"
   ]
  },
  {
   "cell_type": "code",
   "execution_count": 93,
   "id": "cc35af08",
   "metadata": {},
   "outputs": [
    {
     "name": "stdout",
     "output_type": "stream",
     "text": [
      "2\n"
     ]
    },
    {
     "data": {
      "text/plain": [
       "(34, 65, 78, 1, 2)"
      ]
     },
     "execution_count": 93,
     "metadata": {},
     "output_type": "execute_result"
    }
   ],
   "source": [
    "def add1(*args):\n",
    "    try:\n",
    "        n=int(input())\n",
    "        return(args[n::]+args[:n])\n",
    "    except:\n",
    "        return 'Try once more'\n",
    "add1(1,2,34,65,78)   #by use of function and slicing operation"
   ]
  },
  {
   "cell_type": "code",
   "execution_count": 111,
   "id": "b39b334b",
   "metadata": {},
   "outputs": [
    {
     "name": "stdout",
     "output_type": "stream",
     "text": [
      "Not Monotonic\n",
      "[1, 2, 3, 34]\n"
     ]
    }
   ],
   "source": [
    "#question 5\n",
    "arr=[1,2,34,3]\n",
    "arr1=sorted(arr) #sorting array in assending order\n",
    "arr2=arr1.copy()\n",
    "arr2.reverse() #sorting array in descending order\n",
    "if arr==arr1 or arr==arr2: #checking if arr will be in eithr assending or desending order then it will be monotonic \n",
    "    print('Monotonic')\n",
    "else:\n",
    "    print('Not Monotonic') #else it will not be monotonic\n",
    "print(arr1)"
   ]
  },
  {
   "cell_type": "code",
   "execution_count": 114,
   "id": "83eb3b1c",
   "metadata": {},
   "outputs": [
    {
     "name": "stdout",
     "output_type": "stream",
     "text": [
      "Not Monotonic\n"
     ]
    }
   ],
   "source": [
    "def mono(*args):\n",
    "    try:\n",
    "        arr1=sorted(args) #sorting array in assending order\n",
    "        arr2=arr1.copy()\n",
    "        arr2.reverse()\n",
    "        if args==arr1 or args==arr2: #checking if arr will be in eithr assending or desending order then it will be monotonic \n",
    "             print('Monotonic')\n",
    "        else:\n",
    "            print('Not Monotonic') #else it will not be monotonic\n",
    "    except:\n",
    "        return 'Send correct set of element'\n",
    "mono(1,2,34,3)  "
   ]
  },
  {
   "cell_type": "code",
   "execution_count": null,
   "id": "c1786ecd",
   "metadata": {},
   "outputs": [],
   "source": [
    "#question 5"
   ]
  }
 ],
 "metadata": {
  "kernelspec": {
   "display_name": "Python 3 (ipykernel)",
   "language": "python",
   "name": "python3"
  },
  "language_info": {
   "codemirror_mode": {
    "name": "ipython",
    "version": 3
   },
   "file_extension": ".py",
   "mimetype": "text/x-python",
   "name": "python",
   "nbconvert_exporter": "python",
   "pygments_lexer": "ipython3",
   "version": "3.9.7"
  }
 },
 "nbformat": 4,
 "nbformat_minor": 5
}
