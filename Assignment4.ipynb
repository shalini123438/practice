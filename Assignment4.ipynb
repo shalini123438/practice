{
 "cells": [
  {
   "cell_type": "code",
   "execution_count": null,
   "id": "58e93c39",
   "metadata": {},
   "outputs": [],
   "source": [
    "[] -> This is an empty list or can say that this is a list which has no value #answer of Q1"
   ]
  },
  {
   "cell_type": "code",
   "execution_count": 4,
   "id": "30a6f384",
   "metadata": {},
   "outputs": [
    {
     "name": "stdout",
     "output_type": "stream",
     "text": [
      "[2, 4, 'hello', 8, 10]\n"
     ]
    }
   ],
   "source": [
    "spam=[2,4,6,8,10]\n",
    "spam[2]='hello'\n",
    "print(spam) #answer of Q2"
   ]
  },
  {
   "cell_type": "code",
   "execution_count": 5,
   "id": "381601d6",
   "metadata": {},
   "outputs": [
    {
     "data": {
      "text/plain": [
       "[2, 4, 'hello', 8, 10, ['a', 'b', 'c', 'd']]"
      ]
     },
     "execution_count": 5,
     "metadata": {},
     "output_type": "execute_result"
    }
   ],
   "source": [
    "spam.append(['a','b','c','d'])\n",
    "spam"
   ]
  },
  {
   "cell_type": "code",
   "execution_count": 10,
   "id": "e34a1637",
   "metadata": {},
   "outputs": [
    {
     "data": {
      "text/plain": [
       "8"
      ]
     },
     "execution_count": 10,
     "metadata": {},
     "output_type": "execute_result"
    }
   ],
   "source": [
    "spam[int(int('3'*2)/11)] #answer of Q3"
   ]
  },
  {
   "cell_type": "code",
   "execution_count": 11,
   "id": "391ee282",
   "metadata": {},
   "outputs": [
    {
     "data": {
      "text/plain": [
       "[2, 4, 'hello', 8, 10, ['a', 'b', 'c', 'd']]"
      ]
     },
     "execution_count": 11,
     "metadata": {},
     "output_type": "execute_result"
    }
   ],
   "source": [
    "spam "
   ]
  },
  {
   "cell_type": "code",
   "execution_count": 12,
   "id": "0cab4503",
   "metadata": {},
   "outputs": [
    {
     "data": {
      "text/plain": [
       "['a', 'b', 'c', 'd']"
      ]
     },
     "execution_count": 12,
     "metadata": {},
     "output_type": "execute_result"
    }
   ],
   "source": [
    "spam[-1] #answer of Q4"
   ]
  },
  {
   "cell_type": "code",
   "execution_count": 13,
   "id": "51da3636",
   "metadata": {},
   "outputs": [
    {
     "data": {
      "text/plain": [
       "[2, 4]"
      ]
     },
     "execution_count": 13,
     "metadata": {},
     "output_type": "execute_result"
    }
   ],
   "source": [
    "spam[0:2] #answer of Q5"
   ]
  },
  {
   "cell_type": "code",
   "execution_count": 15,
   "id": "a1678844",
   "metadata": {},
   "outputs": [
    {
     "data": {
      "text/plain": [
       "1"
      ]
     },
     "execution_count": 15,
     "metadata": {},
     "output_type": "execute_result"
    }
   ],
   "source": [
    "bacon=[3.14,'cat',11,'cat',True]\n",
    "bacon.index('cat') #answer of Q6"
   ]
  },
  {
   "cell_type": "code",
   "execution_count": 16,
   "id": "cbc8c8cd",
   "metadata": {},
   "outputs": [
    {
     "data": {
      "text/plain": [
       "[3.14, 'cat', 11, 'cat', True, 99]"
      ]
     },
     "execution_count": 16,
     "metadata": {},
     "output_type": "execute_result"
    }
   ],
   "source": [
    "bacon.append(99) -> it will add the value in bacon at the last index\n",
    "bacon #answer of Q7"
   ]
  },
  {
   "cell_type": "code",
   "execution_count": 17,
   "id": "be95e112",
   "metadata": {},
   "outputs": [
    {
     "data": {
      "text/plain": [
       "[3.14, 11, 'cat', True, 99]"
      ]
     },
     "execution_count": 17,
     "metadata": {},
     "output_type": "execute_result"
    }
   ],
   "source": [
    "bacon.remove('cat') -> this statement will remove cat from the list.\n",
    "bacon #answer of Q8"
   ]
  },
  {
   "cell_type": "code",
   "execution_count": null,
   "id": "cac82a8a",
   "metadata": {},
   "outputs": [],
   "source": [
    "list concatenation(+) operator is something where we add two list and generete a new list. for ex-> a=[2,3,4]\n",
    "b=[9,0,8]\n",
    "c=[a+b] -> so here we concatenate a and b.\n",
    "[2,3,4,9,0,8] -> this is output list\n",
    "\n",
    "list replication operator(*) here if we want to replicate our list a into 3 times then we can replicate this with the \n",
    "help of * operator.\n",
    "for ex-> a*3\n",
    "it will generate this output - [2,3,4,2,3,4,2,3,4] #answer of Q9"
   ]
  },
  {
   "cell_type": "code",
   "execution_count": 20,
   "id": "9f054152",
   "metadata": {},
   "outputs": [
    {
     "data": {
      "text/plain": [
       "[[2, 3, 4, 9, 0, 8]]"
      ]
     },
     "execution_count": 20,
     "metadata": {},
     "output_type": "execute_result"
    }
   ],
   "source": [
    "append() -> it add the value at the last position of a list automatically. it isnt required any position. \n",
    "for ex. a.append(8)\n",
    "insert() -> it add the value in the list by given number. it takes two argument 2nd one is value as well as1st \n",
    "one is position.  for ex-> a.insert(2,55) #answer of Q10"
   ]
  },
  {
   "cell_type": "code",
   "execution_count": null,
   "id": "8e5f3736",
   "metadata": {},
   "outputs": [],
   "source": [
    "pop() and remove() #answer of Q11"
   ]
  },
  {
   "cell_type": "code",
   "execution_count": null,
   "id": "3c20be66",
   "metadata": {},
   "outputs": [],
   "source": [
    "Similarity in list value and string value is both caontain ordered collection of value or object.#answer of Q12"
   ]
  },
  {
   "cell_type": "code",
   "execution_count": null,
   "id": "6c2324e5",
   "metadata": {},
   "outputs": [],
   "source": [
    "tuple are immutable where as list are mutable\n",
    "tuple are faster than list\n",
    "tuple can represented by () where as list can be represented by [] #answer of Q13"
   ]
  },
  {
   "cell_type": "code",
   "execution_count": 25,
   "id": "916bbb56",
   "metadata": {},
   "outputs": [
    {
     "data": {
      "text/plain": [
       "42"
      ]
     },
     "execution_count": 25,
     "metadata": {},
     "output_type": "execute_result"
    }
   ],
   "source": [
    "touple=(42)\n",
    "touple #answer of Q14"
   ]
  },
  {
   "cell_type": "code",
   "execution_count": null,
   "id": "f8ccfa5e",
   "metadata": {},
   "outputs": [],
   "source": [
    "lis=[9,8,7,6]\n",
    "touple=(touple(lis))\n",
    "lis=tuple(list(touple))#answer of Q15"
   ]
  },
  {
   "cell_type": "code",
   "execution_count": null,
   "id": "71f587b1",
   "metadata": {},
   "outputs": [],
   "source": [
    "variable contain references of list values rather than list values themselves.#answer of Q16"
   ]
  },
  {
   "cell_type": "code",
   "execution_count": null,
   "id": "056a39c2",
   "metadata": {},
   "outputs": [],
   "source": [
    "copy.copy()- it creates reference of the original value. if i will change copied value then it will automaticall refect in \n",
    "the origional value.\n",
    "copy.deepcopy() - it also create references of the origional value but in copy.deepcopy() when will do changes in copied\n",
    "value then it will not reflect in origional value.#answer of Q1"
   ]
  }
 ],
 "metadata": {
  "kernelspec": {
   "display_name": "Python 3 (ipykernel)",
   "language": "python",
   "name": "python3"
  },
  "language_info": {
   "codemirror_mode": {
    "name": "ipython",
    "version": 3
   },
   "file_extension": ".py",
   "mimetype": "text/x-python",
   "name": "python",
   "nbconvert_exporter": "python",
   "pygments_lexer": "ipython3",
   "version": "3.9.7"
  }
 },
 "nbformat": 4,
 "nbformat_minor": 5
}
